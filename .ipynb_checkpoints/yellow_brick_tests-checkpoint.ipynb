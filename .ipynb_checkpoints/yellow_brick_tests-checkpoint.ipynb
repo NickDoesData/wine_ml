{
 "cells": [
  {
   "cell_type": "markdown",
   "metadata": {},
   "source": [
    "#### Import some basic libraries"
   ]
  },
  {
   "cell_type": "code",
   "execution_count": 162,
   "metadata": {
    "collapsed": false
   },
   "outputs": [],
   "source": [
    "import pandas as pd\n",
    "import numpy as np\n",
    "import warnings\n",
    "%matplotlib inline\n",
    "\n",
    "warnings.filterwarnings('ignore')"
   ]
  },
  {
   "cell_type": "markdown",
   "metadata": {},
   "source": [
    "## Wine Quality Data"
   ]
  },
  {
   "cell_type": "markdown",
   "metadata": {},
   "source": [
    "The UCI wine quality dataset uses  Portuguese \"Vinho Verde\" wine data to provide both classification and regression machine learning tasks. Users can attempt to classify wines as red/white, or predict the overall quality of wine.\n",
    "\n",
    "The variables included in this dataset include:   \n",
    "Input variables (based on physicochemical tests):    \n",
    "1 - fixed acidity    \n",
    "2 - volatile acidity    \n",
    "3 - citric acid    \n",
    "4 - residual sugar    \n",
    "5 - chlorides    \n",
    "6 - free sulfur dioxide    \n",
    "7 - total sulfur dioxide    \n",
    "8 - density    \n",
    "9 - pH    \n",
    "10 - sulphates    \n",
    "11 - alcohol    \n",
    "\n",
    "Output variable (based on sensory data):    \n",
    "12 - quality (score between 0 and 10)   \n",
    "\n",
    "\n",
    "Citation:\n",
    "P. Cortez, A. Cerdeira, F. Almeida, T. Matos and J. Reis. \n",
    "Modeling wine preferences by data mining from physicochemical properties. In Decision Support Systems, Elsevier, 47(4):547-553, 2009.\n",
    "\n",
    "https://archive.ics.uci.edu/ml/datasets/Wine+Quality"
   ]
  },
  {
   "cell_type": "code",
   "execution_count": 453,
   "metadata": {
    "collapsed": false
   },
   "outputs": [
    {
     "name": "stdout",
     "output_type": "stream",
     "text": [
      "   fixed_acidity  volatile_acidity  citric_acid  residual_sugar  chlorides  \\\n",
      "0            7.0              0.27         0.36            20.7      0.045   \n",
      "1            6.3              0.30         0.34             1.6      0.049   \n",
      "2            8.1              0.28         0.40             6.9      0.050   \n",
      "3            7.2              0.23         0.32             8.5      0.058   \n",
      "4            7.2              0.23         0.32             8.5      0.058   \n",
      "\n",
      "   free_sulfur_dioxide  total_sulfur_dioxide  density    pH  sulphates  \\\n",
      "0                 45.0                 170.0   1.0010  3.00       0.45   \n",
      "1                 14.0                 132.0   0.9940  3.30       0.49   \n",
      "2                 30.0                  97.0   0.9951  3.26       0.44   \n",
      "3                 47.0                 186.0   0.9956  3.19       0.40   \n",
      "4                 47.0                 186.0   0.9956  3.19       0.40   \n",
      "\n",
      "   alcohol  quality category  \n",
      "0      8.8        6    white  \n",
      "1      9.5        6    white  \n",
      "2     10.1        6    white  \n",
      "3      9.9        6    white  \n",
      "4      9.9        6    white  \n",
      "\n",
      "\n",
      "category\n",
      "red      1599\n",
      "white    4898\n",
      "Name: pH, dtype: int64\n"
     ]
    },
    {
     "data": {
      "text/plain": [
       "acceptable\n",
       "acceptable      4113\n",
       "unacceptable    2384\n",
       "Name: category, dtype: int64"
      ]
     },
     "execution_count": 453,
     "metadata": {},
     "output_type": "execute_result"
    }
   ],
   "source": [
    "def obtain_data():\n",
    "\n",
    "    df_red = pd.read_csv(r'https://archive.ics.uci.edu/ml/machine-learning-databases/wine-quality/winequality-red.csv', sep = ';')\n",
    "    df_white = pd.read_csv(r'https://archive.ics.uci.edu/ml/machine-learning-databases/wine-quality/winequality-white.csv', sep=';')\n",
    "    \n",
    "    df_white['category'] = 'white'\n",
    "    df_red['category'] = 'red'\n",
    "    \n",
    "    df = pd.concat([df_white, df_red], axis=0)\n",
    "    \n",
    "    # remove spaces and replace with underscores\n",
    "    df.columns = df.columns.str.replace(\" \", \"_\")\n",
    "    \n",
    "    del df_white\n",
    "    del df_red\n",
    "    \n",
    "    return df\n",
    "\n",
    "df = obtain_data()\n",
    "print (df.head())\n",
    "print ('\\n')\n",
    "print (df.groupby('category')['pH'].count())\n",
    "\n",
    "df['acceptable'] = ''\n",
    "df['acceptable'][df.quality > 5] = 'acceptable'\n",
    "df['acceptable'][df.quality <= 5] = 'unacceptable'\n",
    "\n",
    "df[['red', 'white']] = pd.get_dummies(df['category'])\n",
    "\n",
    "df.groupby('acceptable')['category'].count()"
   ]
  },
  {
   "cell_type": "code",
   "execution_count": 416,
   "metadata": {
    "collapsed": false
   },
   "outputs": [],
   "source": []
  },
  {
   "cell_type": "code",
   "execution_count": 414,
   "metadata": {
    "collapsed": false
   },
   "outputs": [
    {
     "data": {
      "text/plain": [
       "acceptable\n",
       "acceptable      4113\n",
       "unacceptable    2384\n",
       "Name: category, dtype: int64"
      ]
     },
     "execution_count": 414,
     "metadata": {},
     "output_type": "execute_result"
    }
   ],
   "source": []
  },
  {
   "cell_type": "markdown",
   "metadata": {},
   "source": [
    "### Evaluate Features with YellowBrick"
   ]
  },
  {
   "cell_type": "code",
   "execution_count": 50,
   "metadata": {
    "collapsed": false
   },
   "outputs": [
    {
     "data": {
      "image/png": "[encoded data removed]",
      "text/plain": [
       "<matplotlib.figure.Figure at 0x219345d3cc0>"
      ]
     },
     "metadata": {},
     "output_type": "display_data"
    }
   ],
   "source": [
    "from yellowbrick.features.rankd import Rank2D \n",
    "\n",
    "X = df.ix[:,:-1]\n",
    "y = df.ix[:,-1]\n",
    "\n",
    "visualizer = Rank2D(features=X.columns, algorithm='pearson')\n",
    "\n",
    "visualizer.fit(X, y)                # Fit the data to the visualizer\n",
    "visualizer.transform(X)             # Transform the data\n",
    "visualizer.poof()"
   ]
  },
  {
   "cell_type": "code",
   "execution_count": 51,
   "metadata": {
    "collapsed": false
   },
   "outputs": [
    {
     "data": {
      "text/html": [
       "<div>\n",
       "<table border=\"1\" class=\"dataframe\">\n",
       "  <thead>\n",
       "    <tr style=\"text-align: right;\">\n",
       "      <th></th>\n",
       "      <th>fixed_acidity</th>\n",
       "      <th>volatile_acidity</th>\n",
       "      <th>citric_acid</th>\n",
       "      <th>residual_sugar</th>\n",
       "      <th>chlorides</th>\n",
       "      <th>free_sulfur_dioxide</th>\n",
       "      <th>total_sulfur_dioxide</th>\n",
       "      <th>density</th>\n",
       "      <th>pH</th>\n",
       "      <th>sulphates</th>\n",
       "      <th>alcohol</th>\n",
       "      <th>quality</th>\n",
       "    </tr>\n",
       "  </thead>\n",
       "  <tbody>\n",
       "    <tr>\n",
       "      <th>fixed_acidity</th>\n",
       "      <td>1.000000</td>\n",
       "      <td>0.219008</td>\n",
       "      <td>0.324436</td>\n",
       "      <td>-0.111981</td>\n",
       "      <td>0.298195</td>\n",
       "      <td>-0.282735</td>\n",
       "      <td>-0.329054</td>\n",
       "      <td>0.458910</td>\n",
       "      <td>-0.252700</td>\n",
       "      <td>0.299568</td>\n",
       "      <td>-0.095452</td>\n",
       "      <td>-0.076743</td>\n",
       "    </tr>\n",
       "    <tr>\n",
       "      <th>volatile_acidity</th>\n",
       "      <td>0.219008</td>\n",
       "      <td>1.000000</td>\n",
       "      <td>-0.377981</td>\n",
       "      <td>-0.196011</td>\n",
       "      <td>0.377124</td>\n",
       "      <td>-0.352557</td>\n",
       "      <td>-0.414476</td>\n",
       "      <td>0.271296</td>\n",
       "      <td>0.261454</td>\n",
       "      <td>0.225984</td>\n",
       "      <td>-0.037640</td>\n",
       "      <td>-0.265699</td>\n",
       "    </tr>\n",
       "    <tr>\n",
       "      <th>citric_acid</th>\n",
       "      <td>0.324436</td>\n",
       "      <td>-0.377981</td>\n",
       "      <td>1.000000</td>\n",
       "      <td>0.142451</td>\n",
       "      <td>0.038998</td>\n",
       "      <td>0.133126</td>\n",
       "      <td>0.195242</td>\n",
       "      <td>0.096154</td>\n",
       "      <td>-0.329808</td>\n",
       "      <td>0.056197</td>\n",
       "      <td>-0.010493</td>\n",
       "      <td>0.085532</td>\n",
       "    </tr>\n",
       "    <tr>\n",
       "      <th>residual_sugar</th>\n",
       "      <td>-0.111981</td>\n",
       "      <td>-0.196011</td>\n",
       "      <td>0.142451</td>\n",
       "      <td>1.000000</td>\n",
       "      <td>-0.128940</td>\n",
       "      <td>0.402871</td>\n",
       "      <td>0.495482</td>\n",
       "      <td>0.552517</td>\n",
       "      <td>-0.267320</td>\n",
       "      <td>-0.185927</td>\n",
       "      <td>-0.359415</td>\n",
       "      <td>-0.036980</td>\n",
       "    </tr>\n",
       "    <tr>\n",
       "      <th>chlorides</th>\n",
       "      <td>0.298195</td>\n",
       "      <td>0.377124</td>\n",
       "      <td>0.038998</td>\n",
       "      <td>-0.128940</td>\n",
       "      <td>1.000000</td>\n",
       "      <td>-0.195045</td>\n",
       "      <td>-0.279630</td>\n",
       "      <td>0.362615</td>\n",
       "      <td>0.044708</td>\n",
       "      <td>0.395593</td>\n",
       "      <td>-0.256916</td>\n",
       "      <td>-0.200666</td>\n",
       "    </tr>\n",
       "    <tr>\n",
       "      <th>free_sulfur_dioxide</th>\n",
       "      <td>-0.282735</td>\n",
       "      <td>-0.352557</td>\n",
       "      <td>0.133126</td>\n",
       "      <td>0.402871</td>\n",
       "      <td>-0.195045</td>\n",
       "      <td>1.000000</td>\n",
       "      <td>0.720934</td>\n",
       "      <td>0.025717</td>\n",
       "      <td>-0.145854</td>\n",
       "      <td>-0.188457</td>\n",
       "      <td>-0.179838</td>\n",
       "      <td>0.055463</td>\n",
       "    </tr>\n",
       "    <tr>\n",
       "      <th>total_sulfur_dioxide</th>\n",
       "      <td>-0.329054</td>\n",
       "      <td>-0.414476</td>\n",
       "      <td>0.195242</td>\n",
       "      <td>0.495482</td>\n",
       "      <td>-0.279630</td>\n",
       "      <td>0.720934</td>\n",
       "      <td>1.000000</td>\n",
       "      <td>0.032395</td>\n",
       "      <td>-0.238413</td>\n",
       "      <td>-0.275727</td>\n",
       "      <td>-0.265740</td>\n",
       "      <td>-0.041385</td>\n",
       "    </tr>\n",
       "    <tr>\n",
       "      <th>density</th>\n",
       "      <td>0.458910</td>\n",
       "      <td>0.271296</td>\n",
       "      <td>0.096154</td>\n",
       "      <td>0.552517</td>\n",
       "      <td>0.362615</td>\n",
       "      <td>0.025717</td>\n",
       "      <td>0.032395</td>\n",
       "      <td>1.000000</td>\n",
       "      <td>0.011686</td>\n",
       "      <td>0.259478</td>\n",
       "      <td>-0.686745</td>\n",
       "      <td>-0.305858</td>\n",
       "    </tr>\n",
       "    <tr>\n",
       "      <th>pH</th>\n",
       "      <td>-0.252700</td>\n",
       "      <td>0.261454</td>\n",
       "      <td>-0.329808</td>\n",
       "      <td>-0.267320</td>\n",
       "      <td>0.044708</td>\n",
       "      <td>-0.145854</td>\n",
       "      <td>-0.238413</td>\n",
       "      <td>0.011686</td>\n",
       "      <td>1.000000</td>\n",
       "      <td>0.192123</td>\n",
       "      <td>0.121248</td>\n",
       "      <td>0.019506</td>\n",
       "    </tr>\n",
       "    <tr>\n",
       "      <th>sulphates</th>\n",
       "      <td>0.299568</td>\n",
       "      <td>0.225984</td>\n",
       "      <td>0.056197</td>\n",
       "      <td>-0.185927</td>\n",
       "      <td>0.395593</td>\n",
       "      <td>-0.188457</td>\n",
       "      <td>-0.275727</td>\n",
       "      <td>0.259478</td>\n",
       "      <td>0.192123</td>\n",
       "      <td>1.000000</td>\n",
       "      <td>-0.003029</td>\n",
       "      <td>0.038485</td>\n",
       "    </tr>\n",
       "    <tr>\n",
       "      <th>alcohol</th>\n",
       "      <td>-0.095452</td>\n",
       "      <td>-0.037640</td>\n",
       "      <td>-0.010493</td>\n",
       "      <td>-0.359415</td>\n",
       "      <td>-0.256916</td>\n",
       "      <td>-0.179838</td>\n",
       "      <td>-0.265740</td>\n",
       "      <td>-0.686745</td>\n",
       "      <td>0.121248</td>\n",
       "      <td>-0.003029</td>\n",
       "      <td>1.000000</td>\n",
       "      <td>0.444319</td>\n",
       "    </tr>\n",
       "    <tr>\n",
       "      <th>quality</th>\n",
       "      <td>-0.076743</td>\n",
       "      <td>-0.265699</td>\n",
       "      <td>0.085532</td>\n",
       "      <td>-0.036980</td>\n",
       "      <td>-0.200666</td>\n",
       "      <td>0.055463</td>\n",
       "      <td>-0.041385</td>\n",
       "      <td>-0.305858</td>\n",
       "      <td>0.019506</td>\n",
       "      <td>0.038485</td>\n",
       "      <td>0.444319</td>\n",
       "      <td>1.000000</td>\n",
       "    </tr>\n",
       "  </tbody>\n",
       "</table>\n",
       "</div>"
      ],
      "text/plain": [
       "                      fixed_acidity  volatile_acidity  citric_acid  \\\n",
       "fixed_acidity              1.000000          0.219008     0.324436   \n",
       "volatile_acidity           0.219008          1.000000    -0.377981   \n",
       "citric_acid                0.324436         -0.377981     1.000000   \n",
       "residual_sugar            -0.111981         -0.196011     0.142451   \n",
       "chlorides                  0.298195          0.377124     0.038998   \n",
       "free_sulfur_dioxide       -0.282735         -0.352557     0.133126   \n",
       "total_sulfur_dioxide      -0.329054         -0.414476     0.195242   \n",
       "density                    0.458910          0.271296     0.096154   \n",
       "pH                        -0.252700          0.261454    -0.329808   \n",
       "sulphates                  0.299568          0.225984     0.056197   \n",
       "alcohol                   -0.095452         -0.037640    -0.010493   \n",
       "quality                   -0.076743         -0.265699     0.085532   \n",
       "\n",
       "                      residual_sugar  chlorides  free_sulfur_dioxide  \\\n",
       "fixed_acidity              -0.111981   0.298195            -0.282735   \n",
       "volatile_acidity           -0.196011   0.377124            -0.352557   \n",
       "citric_acid                 0.142451   0.038998             0.133126   \n",
       "residual_sugar              1.000000  -0.128940             0.402871   \n",
       "chlorides                  -0.128940   1.000000            -0.195045   \n",
       "free_sulfur_dioxide         0.402871  -0.195045             1.000000   \n",
       "total_sulfur_dioxide        0.495482  -0.279630             0.720934   \n",
       "density                     0.552517   0.362615             0.025717   \n",
       "pH                         -0.267320   0.044708            -0.145854   \n",
       "sulphates                  -0.185927   0.395593            -0.188457   \n",
       "alcohol                    -0.359415  -0.256916            -0.179838   \n",
       "quality                    -0.036980  -0.200666             0.055463   \n",
       "\n",
       "                      total_sulfur_dioxide   density        pH  sulphates  \\\n",
       "fixed_acidity                    -0.329054  0.458910 -0.252700   0.299568   \n",
       "volatile_acidity                 -0.414476  0.271296  0.261454   0.225984   \n",
       "citric_acid                       0.195242  0.096154 -0.329808   0.056197   \n",
       "residual_sugar                    0.495482  0.552517 -0.267320  -0.185927   \n",
       "chlorides                        -0.279630  0.362615  0.044708   0.395593   \n",
       "free_sulfur_dioxide               0.720934  0.025717 -0.145854  -0.188457   \n",
       "total_sulfur_dioxide              1.000000  0.032395 -0.238413  -0.275727   \n",
       "density                           0.032395  1.000000  0.011686   0.259478   \n",
       "pH                               -0.238413  0.011686  1.000000   0.192123   \n",
       "sulphates                        -0.275727  0.259478  0.192123   1.000000   \n",
       "alcohol                          -0.265740 -0.686745  0.121248  -0.003029   \n",
       "quality                          -0.041385 -0.305858  0.019506   0.038485   \n",
       "\n",
       "                       alcohol   quality  \n",
       "fixed_acidity        -0.095452 -0.076743  \n",
       "volatile_acidity     -0.037640 -0.265699  \n",
       "citric_acid          -0.010493  0.085532  \n",
       "residual_sugar       -0.359415 -0.036980  \n",
       "chlorides            -0.256916 -0.200666  \n",
       "free_sulfur_dioxide  -0.179838  0.055463  \n",
       "total_sulfur_dioxide -0.265740 -0.041385  \n",
       "density              -0.686745 -0.305858  \n",
       "pH                    0.121248  0.019506  \n",
       "sulphates            -0.003029  0.038485  \n",
       "alcohol               1.000000  0.444319  \n",
       "quality               0.444319  1.000000  "
      ]
     },
     "execution_count": 51,
     "metadata": {},
     "output_type": "execute_result"
    }
   ],
   "source": [
    "X.corr()"
   ]
  },
  {
   "cell_type": "code",
   "execution_count": 52,
   "metadata": {
    "collapsed": false
   },
   "outputs": [
    {
     "data": {
      "image/png": "[encoded data removed]",
      "text/plain": [
       "<matplotlib.figure.Figure at 0x219338daa20>"
      ]
     },
     "metadata": {},
     "output_type": "display_data"
    }
   ],
   "source": [
    "visualizer = Rank2D(features=X.columns, algorithm='covariance')\n",
    "\n",
    "visualizer.fit(X, y)                # Fit the data to the visualizer\n",
    "visualizer.transform(X)             # Transform the data\n",
    "visualizer.poof()"
   ]
  },
  {
   "cell_type": "code",
   "execution_count": 53,
   "metadata": {
    "collapsed": false
   },
   "outputs": [
    {
     "data": {
      "text/html": [
       "<div>\n",
       "<table border=\"1\" class=\"dataframe\">\n",
       "  <thead>\n",
       "    <tr style=\"text-align: right;\">\n",
       "      <th></th>\n",
       "      <th>fixed_acidity</th>\n",
       "      <th>volatile_acidity</th>\n",
       "      <th>citric_acid</th>\n",
       "      <th>residual_sugar</th>\n",
       "      <th>chlorides</th>\n",
       "      <th>free_sulfur_dioxide</th>\n",
       "      <th>total_sulfur_dioxide</th>\n",
       "      <th>density</th>\n",
       "      <th>pH</th>\n",
       "      <th>sulphates</th>\n",
       "      <th>alcohol</th>\n",
       "      <th>quality</th>\n",
       "    </tr>\n",
       "  </thead>\n",
       "  <tbody>\n",
       "    <tr>\n",
       "      <th>fixed_acidity</th>\n",
       "      <td>1.680740</td>\n",
       "      <td>0.046745</td>\n",
       "      <td>0.061122</td>\n",
       "      <td>-0.690720</td>\n",
       "      <td>0.013544</td>\n",
       "      <td>-6.506003</td>\n",
       "      <td>-24.112030</td>\n",
       "      <td>0.001784</td>\n",
       "      <td>-0.052675</td>\n",
       "      <td>0.057792</td>\n",
       "      <td>-0.147594</td>\n",
       "      <td>-0.086882</td>\n",
       "    </tr>\n",
       "    <tr>\n",
       "      <th>volatile_acidity</th>\n",
       "      <td>0.046745</td>\n",
       "      <td>0.027105</td>\n",
       "      <td>-0.009043</td>\n",
       "      <td>-0.153537</td>\n",
       "      <td>0.002175</td>\n",
       "      <td>-1.030242</td>\n",
       "      <td>-3.856933</td>\n",
       "      <td>0.000134</td>\n",
       "      <td>0.006921</td>\n",
       "      <td>0.005536</td>\n",
       "      <td>-0.007391</td>\n",
       "      <td>-0.038200</td>\n",
       "    </tr>\n",
       "    <tr>\n",
       "      <th>citric_acid</th>\n",
       "      <td>0.061122</td>\n",
       "      <td>-0.009043</td>\n",
       "      <td>0.021117</td>\n",
       "      <td>0.098490</td>\n",
       "      <td>0.000199</td>\n",
       "      <td>0.343372</td>\n",
       "      <td>1.603646</td>\n",
       "      <td>0.000042</td>\n",
       "      <td>-0.007706</td>\n",
       "      <td>0.001215</td>\n",
       "      <td>-0.001819</td>\n",
       "      <td>0.010854</td>\n",
       "    </tr>\n",
       "    <tr>\n",
       "      <th>residual_sugar</th>\n",
       "      <td>-0.690720</td>\n",
       "      <td>-0.153537</td>\n",
       "      <td>0.098490</td>\n",
       "      <td>22.636696</td>\n",
       "      <td>-0.021492</td>\n",
       "      <td>34.021685</td>\n",
       "      <td>133.244854</td>\n",
       "      <td>0.007883</td>\n",
       "      <td>-0.204498</td>\n",
       "      <td>-0.131635</td>\n",
       "      <td>-2.039567</td>\n",
       "      <td>-0.153646</td>\n",
       "    </tr>\n",
       "    <tr>\n",
       "      <th>chlorides</th>\n",
       "      <td>0.013544</td>\n",
       "      <td>0.002175</td>\n",
       "      <td>0.000199</td>\n",
       "      <td>-0.021492</td>\n",
       "      <td>0.001227</td>\n",
       "      <td>-0.121284</td>\n",
       "      <td>-0.553714</td>\n",
       "      <td>0.000038</td>\n",
       "      <td>0.000252</td>\n",
       "      <td>0.002062</td>\n",
       "      <td>-0.010735</td>\n",
       "      <td>-0.006139</td>\n",
       "    </tr>\n",
       "    <tr>\n",
       "      <th>free_sulfur_dioxide</th>\n",
       "      <td>-6.506003</td>\n",
       "      <td>-1.030242</td>\n",
       "      <td>0.343372</td>\n",
       "      <td>34.021685</td>\n",
       "      <td>-0.121284</td>\n",
       "      <td>315.041192</td>\n",
       "      <td>723.261972</td>\n",
       "      <td>0.001369</td>\n",
       "      <td>-0.416249</td>\n",
       "      <td>-0.497756</td>\n",
       "      <td>-3.807165</td>\n",
       "      <td>0.859664</td>\n",
       "    </tr>\n",
       "    <tr>\n",
       "      <th>total_sulfur_dioxide</th>\n",
       "      <td>-24.112030</td>\n",
       "      <td>-3.856933</td>\n",
       "      <td>1.603646</td>\n",
       "      <td>133.244854</td>\n",
       "      <td>-0.553714</td>\n",
       "      <td>723.261972</td>\n",
       "      <td>3194.720039</td>\n",
       "      <td>0.005491</td>\n",
       "      <td>-2.166696</td>\n",
       "      <td>-2.319079</td>\n",
       "      <td>-17.914646</td>\n",
       "      <td>-2.042704</td>\n",
       "    </tr>\n",
       "    <tr>\n",
       "      <th>density</th>\n",
       "      <td>0.001784</td>\n",
       "      <td>0.000134</td>\n",
       "      <td>0.000042</td>\n",
       "      <td>0.007883</td>\n",
       "      <td>0.000038</td>\n",
       "      <td>0.001369</td>\n",
       "      <td>0.005491</td>\n",
       "      <td>0.000009</td>\n",
       "      <td>0.000006</td>\n",
       "      <td>0.000116</td>\n",
       "      <td>-0.002456</td>\n",
       "      <td>-0.000801</td>\n",
       "    </tr>\n",
       "    <tr>\n",
       "      <th>pH</th>\n",
       "      <td>-0.052675</td>\n",
       "      <td>0.006921</td>\n",
       "      <td>-0.007706</td>\n",
       "      <td>-0.204498</td>\n",
       "      <td>0.000252</td>\n",
       "      <td>-0.416249</td>\n",
       "      <td>-2.166696</td>\n",
       "      <td>0.000006</td>\n",
       "      <td>0.025853</td>\n",
       "      <td>0.004597</td>\n",
       "      <td>0.023252</td>\n",
       "      <td>0.002739</td>\n",
       "    </tr>\n",
       "    <tr>\n",
       "      <th>sulphates</th>\n",
       "      <td>0.057792</td>\n",
       "      <td>0.005536</td>\n",
       "      <td>0.001215</td>\n",
       "      <td>-0.131635</td>\n",
       "      <td>0.002062</td>\n",
       "      <td>-0.497756</td>\n",
       "      <td>-2.319079</td>\n",
       "      <td>0.000116</td>\n",
       "      <td>0.004597</td>\n",
       "      <td>0.022143</td>\n",
       "      <td>-0.000538</td>\n",
       "      <td>0.005001</td>\n",
       "    </tr>\n",
       "    <tr>\n",
       "      <th>alcohol</th>\n",
       "      <td>-0.147594</td>\n",
       "      <td>-0.007391</td>\n",
       "      <td>-0.001819</td>\n",
       "      <td>-2.039567</td>\n",
       "      <td>-0.010735</td>\n",
       "      <td>-3.807165</td>\n",
       "      <td>-17.914646</td>\n",
       "      <td>-0.002456</td>\n",
       "      <td>0.023252</td>\n",
       "      <td>-0.000538</td>\n",
       "      <td>1.422561</td>\n",
       "      <td>0.462776</td>\n",
       "    </tr>\n",
       "    <tr>\n",
       "      <th>quality</th>\n",
       "      <td>-0.086882</td>\n",
       "      <td>-0.038200</td>\n",
       "      <td>0.010854</td>\n",
       "      <td>-0.153646</td>\n",
       "      <td>-0.006139</td>\n",
       "      <td>0.859664</td>\n",
       "      <td>-2.042704</td>\n",
       "      <td>-0.000801</td>\n",
       "      <td>0.002739</td>\n",
       "      <td>0.005001</td>\n",
       "      <td>0.462776</td>\n",
       "      <td>0.762575</td>\n",
       "    </tr>\n",
       "  </tbody>\n",
       "</table>\n",
       "</div>"
      ],
      "text/plain": [
       "                      fixed_acidity  volatile_acidity  citric_acid  \\\n",
       "fixed_acidity              1.680740          0.046745     0.061122   \n",
       "volatile_acidity           0.046745          0.027105    -0.009043   \n",
       "citric_acid                0.061122         -0.009043     0.021117   \n",
       "residual_sugar            -0.690720         -0.153537     0.098490   \n",
       "chlorides                  0.013544          0.002175     0.000199   \n",
       "free_sulfur_dioxide       -6.506003         -1.030242     0.343372   \n",
       "total_sulfur_dioxide     -24.112030         -3.856933     1.603646   \n",
       "density                    0.001784          0.000134     0.000042   \n",
       "pH                        -0.052675          0.006921    -0.007706   \n",
       "sulphates                  0.057792          0.005536     0.001215   \n",
       "alcohol                   -0.147594         -0.007391    -0.001819   \n",
       "quality                   -0.086882         -0.038200     0.010854   \n",
       "\n",
       "                      residual_sugar  chlorides  free_sulfur_dioxide  \\\n",
       "fixed_acidity              -0.690720   0.013544            -6.506003   \n",
       "volatile_acidity           -0.153537   0.002175            -1.030242   \n",
       "citric_acid                 0.098490   0.000199             0.343372   \n",
       "residual_sugar             22.636696  -0.021492            34.021685   \n",
       "chlorides                  -0.021492   0.001227            -0.121284   \n",
       "free_sulfur_dioxide        34.021685  -0.121284           315.041192   \n",
       "total_sulfur_dioxide      133.244854  -0.553714           723.261972   \n",
       "density                     0.007883   0.000038             0.001369   \n",
       "pH                         -0.204498   0.000252            -0.416249   \n",
       "sulphates                  -0.131635   0.002062            -0.497756   \n",
       "alcohol                    -2.039567  -0.010735            -3.807165   \n",
       "quality                    -0.153646  -0.006139             0.859664   \n",
       "\n",
       "                      total_sulfur_dioxide   density        pH  sulphates  \\\n",
       "fixed_acidity                   -24.112030  0.001784 -0.052675   0.057792   \n",
       "volatile_acidity                 -3.856933  0.000134  0.006921   0.005536   \n",
       "citric_acid                       1.603646  0.000042 -0.007706   0.001215   \n",
       "residual_sugar                  133.244854  0.007883 -0.204498  -0.131635   \n",
       "chlorides                        -0.553714  0.000038  0.000252   0.002062   \n",
       "free_sulfur_dioxide             723.261972  0.001369 -0.416249  -0.497756   \n",
       "total_sulfur_dioxide           3194.720039  0.005491 -2.166696  -2.319079   \n",
       "density                           0.005491  0.000009  0.000006   0.000116   \n",
       "pH                               -2.166696  0.000006  0.025853   0.004597   \n",
       "sulphates                        -2.319079  0.000116  0.004597   0.022143   \n",
       "alcohol                         -17.914646 -0.002456  0.023252  -0.000538   \n",
       "quality                          -2.042704 -0.000801  0.002739   0.005001   \n",
       "\n",
       "                        alcohol   quality  \n",
       "fixed_acidity         -0.147594 -0.086882  \n",
       "volatile_acidity      -0.007391 -0.038200  \n",
       "citric_acid           -0.001819  0.010854  \n",
       "residual_sugar        -2.039567 -0.153646  \n",
       "chlorides             -0.010735 -0.006139  \n",
       "free_sulfur_dioxide   -3.807165  0.859664  \n",
       "total_sulfur_dioxide -17.914646 -2.042704  \n",
       "density               -0.002456 -0.000801  \n",
       "pH                     0.023252  0.002739  \n",
       "sulphates             -0.000538  0.005001  \n",
       "alcohol                1.422561  0.462776  \n",
       "quality                0.462776  0.762575  "
      ]
     },
     "execution_count": 53,
     "metadata": {},
     "output_type": "execute_result"
    }
   ],
   "source": [
    "X.cov()"
   ]
  },
  {
   "cell_type": "code",
   "execution_count": 378,
   "metadata": {
    "collapsed": false
   },
   "outputs": [],
   "source": [
    "def logistic_regression(X, y):\n",
    "\n",
    "    from sklearn.linear_model import LogisticRegression\n",
    "    from sklearn import cross_validation as cv\n",
    "    from sklearn.metrics import classification_report\n",
    "    from sklearn.preprocessing import StandardScaler\n",
    "    from sklearn.metrics import accuracy_score\n",
    "\n",
    "    # splits data into training and test sets. 70% train, 30% test.\n",
    "    X_train, X_test, y_train, y_test = cv.train_test_split(X, y, test_size=0.3, random_state=0)\n",
    "\n",
    "    stdsc      = StandardScaler()\n",
    "\n",
    "    # z-scores training set data, then applies z-score formula from training set to test set.\n",
    "    # this ensures the training data does not learn anything about the test data.\n",
    "    X_train    = stdsc.fit_transform(X_train)\n",
    "    X_test     = stdsc.transform(X_test)\n",
    "\n",
    "    model      = LogisticRegression()\n",
    "    model.fit(X_train, y_train)\n",
    "\n",
    "    # make predictions on the test set. expected = actual risk, predicted = predicted risk, probs = probability of being risky\n",
    "    expected   = y_test\n",
    "    predicted  = model.predict(X_test)\n",
    "    probs      = model.predict_proba(X_test)\n",
    "\n",
    "    print ('Accuracy Score: %.2f%%' % (accuracy_score(expected, predicted) * 100))\n",
    "    print (classification_report(expected, predicted))\n",
    "    \n",
    "    return X_train, y_train, X_test, y_test,  expected, predicted, probs,  model"
   ]
  },
  {
   "cell_type": "code",
   "execution_count": 418,
   "metadata": {
    "collapsed": false
   },
   "outputs": [],
   "source": [
    "predictors = ['fixed_acidity', 'volatile_acidity', 'citric_acid', 'residual_sugar', 'chlorides', 'free_sulfur_dioxide', \n",
    " 'total_sulfur_dioxide', 'density', 'pH', 'sulphates', 'alcohol', 'red', 'white']\n",
    "target = ['acceptable']"
   ]
  },
  {
   "cell_type": "code",
   "execution_count": 419,
   "metadata": {
    "collapsed": false
   },
   "outputs": [
    {
     "name": "stdout",
     "output_type": "stream",
     "text": [
      "Accuracy Score: 73.69%\n",
      "              precision    recall  f1-score   support\n",
      "\n",
      "  acceptable       0.76      0.85      0.80      1215\n",
      "unacceptable       0.69      0.56      0.62       735\n",
      "\n",
      " avg / total       0.73      0.74      0.73      1950\n",
      "\n"
     ]
    }
   ],
   "source": [
    "from sklearn import cross_validation as cv\n",
    "X = df[predictors]\n",
    "y = df[target]\n",
    "\n",
    "\n",
    "X_train, y_train, X_test, y_test, expected, predicted, probs,  model = logistic_regression(X, y)"
   ]
  },
  {
   "cell_type": "code",
   "execution_count": 420,
   "metadata": {
    "collapsed": false
   },
   "outputs": [
    {
     "data": {
      "text/html": [
       "<div>\n",
       "<table border=\"1\" class=\"dataframe\">\n",
       "  <thead>\n",
       "    <tr style=\"text-align: right;\">\n",
       "      <th></th>\n",
       "      <th>0</th>\n",
       "      <th>1</th>\n",
       "    </tr>\n",
       "  </thead>\n",
       "  <tbody>\n",
       "    <tr>\n",
       "      <th>0</th>\n",
       "      <td>0.723678</td>\n",
       "      <td>0.276322</td>\n",
       "    </tr>\n",
       "    <tr>\n",
       "      <th>1</th>\n",
       "      <td>0.358706</td>\n",
       "      <td>0.641294</td>\n",
       "    </tr>\n",
       "    <tr>\n",
       "      <th>2</th>\n",
       "      <td>0.808631</td>\n",
       "      <td>0.191369</td>\n",
       "    </tr>\n",
       "    <tr>\n",
       "      <th>3</th>\n",
       "      <td>0.082043</td>\n",
       "      <td>0.917957</td>\n",
       "    </tr>\n",
       "    <tr>\n",
       "      <th>4</th>\n",
       "      <td>0.398742</td>\n",
       "      <td>0.601258</td>\n",
       "    </tr>\n",
       "  </tbody>\n",
       "</table>\n",
       "</div>"
      ],
      "text/plain": [
       "          0         1\n",
       "0  0.723678  0.276322\n",
       "1  0.358706  0.641294\n",
       "2  0.808631  0.191369\n",
       "3  0.082043  0.917957\n",
       "4  0.398742  0.601258"
      ]
     },
     "execution_count": 420,
     "metadata": {},
     "output_type": "execute_result"
    }
   ],
   "source": [
    "pd.DataFrame(probs).head()"
   ]
  },
  {
   "cell_type": "code",
   "execution_count": 102,
   "metadata": {
    "collapsed": false
   },
   "outputs": [
    {
     "data": {
      "text/plain": [
       "(1950,)"
      ]
     },
     "execution_count": 102,
     "metadata": {},
     "output_type": "execute_result"
    }
   ],
   "source": [
    "np.shape(np.array(expected))"
   ]
  },
  {
   "cell_type": "code",
   "execution_count": 116,
   "metadata": {
    "collapsed": false
   },
   "outputs": [
    {
     "data": {
      "text/html": [
       "<div>\n",
       "<table border=\"1\" class=\"dataframe\">\n",
       "  <thead>\n",
       "    <tr style=\"text-align: right;\">\n",
       "      <th></th>\n",
       "      <th>0</th>\n",
       "      <th>1</th>\n",
       "    </tr>\n",
       "  </thead>\n",
       "  <tbody>\n",
       "    <tr>\n",
       "      <th>1945</th>\n",
       "      <td>red</td>\n",
       "      <td>red</td>\n",
       "    </tr>\n",
       "    <tr>\n",
       "      <th>1946</th>\n",
       "      <td>white</td>\n",
       "      <td>white</td>\n",
       "    </tr>\n",
       "    <tr>\n",
       "      <th>1947</th>\n",
       "      <td>white</td>\n",
       "      <td>white</td>\n",
       "    </tr>\n",
       "    <tr>\n",
       "      <th>1948</th>\n",
       "      <td>red</td>\n",
       "      <td>red</td>\n",
       "    </tr>\n",
       "    <tr>\n",
       "      <th>1949</th>\n",
       "      <td>red</td>\n",
       "      <td>red</td>\n",
       "    </tr>\n",
       "  </tbody>\n",
       "</table>\n",
       "</div>"
      ],
      "text/plain": [
       "          0      1\n",
       "1945    red    red\n",
       "1946  white  white\n",
       "1947  white  white\n",
       "1948    red    red\n",
       "1949    red    red"
      ]
     },
     "execution_count": 116,
     "metadata": {},
     "output_type": "execute_result"
    }
   ],
   "source": [
    "pd.DataFrame(np.vstack([np.array(expected), predicted]).T).tail()"
   ]
  },
  {
   "cell_type": "code",
   "execution_count": 58,
   "metadata": {
    "collapsed": false
   },
   "outputs": [
    {
     "data": {
      "text/plain": [
       "array([ 1,  1, 10, ..., 10,  1,  1], dtype=int64)"
      ]
     },
     "execution_count": 58,
     "metadata": {},
     "output_type": "execute_result"
    }
   ],
   "source": [
    "np.digitize(probs[:,1], bins=[0,.1,.2,.3,.4,.5,.6,.7,.8,.9,1])"
   ]
  },
  {
   "cell_type": "markdown",
   "metadata": {},
   "source": [
    "### Evaluate Model Effectiveness with YellowBrick"
   ]
  },
  {
   "cell_type": "code",
   "execution_count": 17,
   "metadata": {
    "collapsed": false
   },
   "outputs": [
    {
     "data": {
      "image/png": "[encoded data removed]",
      "text/plain": [
       "<matplotlib.figure.Figure at 0x21933789390>"
      ]
     },
     "metadata": {},
     "output_type": "display_data"
    }
   ],
   "source": [
    "from yellowbrick.classifier import ClassificationReport, ROCAUC, ClassBalance\n",
    "from sklearn.linear_model import LogisticRegression\n",
    "\n",
    "model = LogisticRegression()\n",
    "classes = ['red', 'white']\n",
    "\n",
    "visualizer = ClassificationReport(model, classes=classes)\n",
    "\n",
    "visualizer.fit(X_train, y_train)\n",
    "visualizer.score(X_test, y_test)\n",
    "g = visualizer.poof()"
   ]
  },
  {
   "cell_type": "code",
   "execution_count": 18,
   "metadata": {
    "collapsed": false
   },
   "outputs": [
    {
     "ename": "ValueError",
     "evalue": "Data is not binary and pos_label is not specified",
     "output_type": "error",
     "traceback": [
      "\u001b[0;31m---------------------------------------------------------------------------\u001b[0m",
      "\u001b[0;31mValueError\u001b[0m                                Traceback (most recent call last)",
      "\u001b[0;32m<ipython-input-18-25b1e303f6d1>\u001b[0m in \u001b[0;36m<module>\u001b[0;34m()\u001b[0m\n\u001b[1;32m      4\u001b[0m \u001b[1;33m\u001b[0m\u001b[0m\n\u001b[1;32m      5\u001b[0m \u001b[0mvisualizer\u001b[0m\u001b[1;33m.\u001b[0m\u001b[0mfit\u001b[0m\u001b[1;33m(\u001b[0m\u001b[0mX_train\u001b[0m\u001b[1;33m,\u001b[0m \u001b[0my_train\u001b[0m\u001b[1;33m)\u001b[0m  \u001b[1;31m# Fit the training data to the visualizer\u001b[0m\u001b[1;33m\u001b[0m\u001b[0m\n\u001b[0;32m----> 6\u001b[0;31m \u001b[0mvisualizer\u001b[0m\u001b[1;33m.\u001b[0m\u001b[0mscore\u001b[0m\u001b[1;33m(\u001b[0m\u001b[0mX_test\u001b[0m\u001b[1;33m,\u001b[0m \u001b[0my_test\u001b[0m\u001b[1;33m)\u001b[0m  \u001b[1;31m# Evaluate the model on the test data\u001b[0m\u001b[1;33m\u001b[0m\u001b[0m\n\u001b[0m\u001b[1;32m      7\u001b[0m \u001b[0mg\u001b[0m \u001b[1;33m=\u001b[0m \u001b[0mvisualizer\u001b[0m\u001b[1;33m.\u001b[0m\u001b[0mpoof\u001b[0m\u001b[1;33m(\u001b[0m\u001b[1;33m)\u001b[0m\u001b[1;33m\u001b[0m\u001b[0m\n",
      "\u001b[0;32mC:\\Users\\Nick\\Anaconda3\\lib\\site-packages\\yellowbrick\\classifier.py\u001b[0m in \u001b[0;36mscore\u001b[0;34m(self, X, y, **kwargs)\u001b[0m\n\u001b[1;32m    311\u001b[0m         \"\"\"\n\u001b[1;32m    312\u001b[0m         \u001b[0my_pred\u001b[0m \u001b[1;33m=\u001b[0m \u001b[0mself\u001b[0m\u001b[1;33m.\u001b[0m\u001b[0mpredict\u001b[0m\u001b[1;33m(\u001b[0m\u001b[0mX\u001b[0m\u001b[1;33m)\u001b[0m\u001b[1;33m\u001b[0m\u001b[0m\n\u001b[0;32m--> 313\u001b[0;31m         \u001b[0mself\u001b[0m\u001b[1;33m.\u001b[0m\u001b[0mfpr\u001b[0m\u001b[1;33m,\u001b[0m \u001b[0mself\u001b[0m\u001b[1;33m.\u001b[0m\u001b[0mtpr\u001b[0m\u001b[1;33m,\u001b[0m \u001b[0mself\u001b[0m\u001b[1;33m.\u001b[0m\u001b[0mthresholds\u001b[0m \u001b[1;33m=\u001b[0m \u001b[0mroc_curve\u001b[0m\u001b[1;33m(\u001b[0m\u001b[0my\u001b[0m\u001b[1;33m,\u001b[0m \u001b[0my_pred\u001b[0m\u001b[1;33m)\u001b[0m\u001b[1;33m\u001b[0m\u001b[0m\n\u001b[0m\u001b[1;32m    314\u001b[0m         \u001b[0mself\u001b[0m\u001b[1;33m.\u001b[0m\u001b[0mroc_auc\u001b[0m \u001b[1;33m=\u001b[0m \u001b[0mauc\u001b[0m\u001b[1;33m(\u001b[0m\u001b[0mself\u001b[0m\u001b[1;33m.\u001b[0m\u001b[0mfpr\u001b[0m\u001b[1;33m,\u001b[0m \u001b[0mself\u001b[0m\u001b[1;33m.\u001b[0m\u001b[0mtpr\u001b[0m\u001b[1;33m)\u001b[0m\u001b[1;33m\u001b[0m\u001b[0m\n\u001b[1;32m    315\u001b[0m         \u001b[1;32mreturn\u001b[0m \u001b[0mself\u001b[0m\u001b[1;33m.\u001b[0m\u001b[0mdraw\u001b[0m\u001b[1;33m(\u001b[0m\u001b[0my\u001b[0m\u001b[1;33m,\u001b[0m \u001b[0my_pred\u001b[0m\u001b[1;33m)\u001b[0m\u001b[1;33m\u001b[0m\u001b[0m\n",
      "\u001b[0;32mC:\\Users\\Nick\\Anaconda3\\lib\\site-packages\\sklearn\\metrics\\ranking.py\u001b[0m in \u001b[0;36mroc_curve\u001b[0;34m(y_true, y_score, pos_label, sample_weight, drop_intermediate)\u001b[0m\n\u001b[1;32m    503\u001b[0m     \"\"\"\n\u001b[1;32m    504\u001b[0m     fps, tps, thresholds = _binary_clf_curve(\n\u001b[0;32m--> 505\u001b[0;31m         y_true, y_score, pos_label=pos_label, sample_weight=sample_weight)\n\u001b[0m\u001b[1;32m    506\u001b[0m \u001b[1;33m\u001b[0m\u001b[0m\n\u001b[1;32m    507\u001b[0m     \u001b[1;31m# Attempt to drop thresholds corresponding to points in between and\u001b[0m\u001b[1;33m\u001b[0m\u001b[1;33m\u001b[0m\u001b[0m\n",
      "\u001b[0;32mC:\\Users\\Nick\\Anaconda3\\lib\\site-packages\\sklearn\\metrics\\ranking.py\u001b[0m in \u001b[0;36m_binary_clf_curve\u001b[0;34m(y_true, y_score, pos_label, sample_weight)\u001b[0m\n\u001b[1;32m    312\u001b[0m              \u001b[0marray_equal\u001b[0m\u001b[1;33m(\u001b[0m\u001b[0mclasses\u001b[0m\u001b[1;33m,\u001b[0m \u001b[1;33m[\u001b[0m\u001b[1;33m-\u001b[0m\u001b[1;36m1\u001b[0m\u001b[1;33m]\u001b[0m\u001b[1;33m)\u001b[0m \u001b[1;32mor\u001b[0m\u001b[1;33m\u001b[0m\u001b[0m\n\u001b[1;32m    313\u001b[0m              array_equal(classes, [1]))):\n\u001b[0;32m--> 314\u001b[0;31m         \u001b[1;32mraise\u001b[0m \u001b[0mValueError\u001b[0m\u001b[1;33m(\u001b[0m\u001b[1;34m\"Data is not binary and pos_label is not specified\"\u001b[0m\u001b[1;33m)\u001b[0m\u001b[1;33m\u001b[0m\u001b[0m\n\u001b[0m\u001b[1;32m    315\u001b[0m     \u001b[1;32melif\u001b[0m \u001b[0mpos_label\u001b[0m \u001b[1;32mis\u001b[0m \u001b[1;32mNone\u001b[0m\u001b[1;33m:\u001b[0m\u001b[1;33m\u001b[0m\u001b[0m\n\u001b[1;32m    316\u001b[0m         \u001b[0mpos_label\u001b[0m \u001b[1;33m=\u001b[0m \u001b[1;36m1.\u001b[0m\u001b[1;33m\u001b[0m\u001b[0m\n",
      "\u001b[0;31mValueError\u001b[0m: Data is not binary and pos_label is not specified"
     ]
    }
   ],
   "source": [
    "# Instantiate the classification model and visualizer \n",
    "logistic = LogisticRegression()\n",
    "visualizer = ROCAUC(logistic)\n",
    "\n",
    "visualizer.fit(X_train, y_train)  # Fit the training data to the visualizer\n",
    "visualizer.score(X_test, y_test)  # Evaluate the model on the test data \n",
    "g = visualizer.poof()     "
   ]
  },
  {
   "cell_type": "markdown",
   "metadata": {},
   "source": [
    "I am not 100% sure what to do from here. Where would I add pos_label?"
   ]
  },
  {
   "cell_type": "code",
   "execution_count": 19,
   "metadata": {
    "collapsed": false
   },
   "outputs": [
    {
     "data": {
      "image/png": "[encoded data removed]",
      "text/plain": [
       "<matplotlib.figure.Figure at 0x219337835c0>"
      ]
     },
     "metadata": {},
     "output_type": "display_data"
    }
   ],
   "source": [
    "# Instantiate the classification model and visualizer \n",
    "forest = LogisticRegression()\n",
    "visualizer = ClassBalance(forest, classes=classes)\n",
    "\n",
    "visualizer.fit(X_train, y_train)  # Fit the training data to the visualizer\n",
    "visualizer.score(X_test, y_test)  # Evaluate the model on the test data \n",
    "g = visualizer.poof() "
   ]
  },
  {
   "cell_type": "code",
   "execution_count": 87,
   "metadata": {
    "collapsed": true
   },
   "outputs": [],
   "source": [
    "# nick inputs\n",
    "col_labels = ['red', 'white']\n",
    "true_classifications = expected==predicted\n",
    "true_classifications = true_classifications.tolist()\n",
    "true_classifications = np.array(y_test)\n",
    "nbins = 10"
   ]
  },
  {
   "cell_type": "code",
   "execution_count": 126,
   "metadata": {
    "collapsed": false
   },
   "outputs": [
    {
     "data": {
      "text/plain": [
       "(1950,)"
      ]
     },
     "execution_count": 126,
     "metadata": {},
     "output_type": "execute_result"
    }
   ],
   "source": [
    "np.shape(true_classifications)"
   ]
  },
  {
   "cell_type": "code",
   "execution_count": 89,
   "metadata": {
    "collapsed": false
   },
   "outputs": [],
   "source": [
    "probs_shape = np.shape(probs)\n",
    "nclasses = probs_shape[1]\n",
    "bins = np.linspace(0,1,nbins+1)\n"
   ]
  },
  {
   "cell_type": "code",
   "execution_count": 128,
   "metadata": {
    "collapsed": false
   },
   "outputs": [
    {
     "name": "stdout",
     "output_type": "stream",
     "text": [
      "[False False]\n",
      "[False  True]\n",
      "[False False]\n",
      "[False False]\n",
      "[False False]\n",
      "[False False]\n",
      "[False False]\n",
      "[False False]\n",
      "[False False]\n",
      "[False False]\n",
      "[False False]\n",
      "[False  True]\n",
      "[False False]\n",
      "[False False]\n",
      "[False False]\n",
      "[False False]\n",
      "[False False]\n",
      "[False False]\n",
      "[False False]\n",
      "[False False]\n"
     ]
    }
   ],
   "source": [
    "col_labels = ['red', 'white']\n",
    "true_classifications = np.array(y_test)\n",
    "\n",
    "figure_data = genFigureData(probs=probs, col_labels=col_labels, true_classifications=true_classifications, nbins=10)"
   ]
  },
  {
   "cell_type": "code",
   "execution_count": 184,
   "metadata": {
    "collapsed": false
   },
   "outputs": [
    {
     "data": {
      "text/plain": [
       "array([[[ 0.,  0.],\n",
       "        [ 1.,  0.],\n",
       "        [ 0.,  0.],\n",
       "        [ 0.,  0.],\n",
       "        [ 0.,  0.],\n",
       "        [ 0.,  0.],\n",
       "        [ 0.,  0.],\n",
       "        [ 0.,  0.],\n",
       "        [ 0.,  0.],\n",
       "        [ 0.,  0.]],\n",
       "\n",
       "       [[ 0.,  0.],\n",
       "        [ 1.,  0.],\n",
       "        [ 0.,  0.],\n",
       "        [ 0.,  0.],\n",
       "        [ 0.,  0.],\n",
       "        [ 0.,  0.],\n",
       "        [ 0.,  0.],\n",
       "        [ 0.,  0.],\n",
       "        [ 0.,  0.],\n",
       "        [ 0.,  0.]]])"
      ]
     },
     "execution_count": 184,
     "metadata": {},
     "output_type": "execute_result"
    }
   ],
   "source": [
    "figure_data"
   ]
  },
  {
   "cell_type": "code",
   "execution_count": 26,
   "metadata": {
    "collapsed": false
   },
   "outputs": [
    {
     "data": {
      "text/plain": [
       "array(['red', 'rose', 'white'], dtype=object)"
      ]
     },
     "execution_count": 26,
     "metadata": {},
     "output_type": "execute_result"
    }
   ],
   "source": [
    "col_labels = np.unique(df.ix[:,-1:])"
   ]
  },
  {
   "cell_type": "code",
   "execution_count": 346,
   "metadata": {
    "collapsed": false
   },
   "outputs": [
    {
     "data": {
      "text/plain": [
       "array([[  9.99981429e-01,   1.85710074e-05],\n",
       "       [  9.84403228e-01,   1.55967716e-02],\n",
       "       [  9.48141222e-04,   9.99051859e-01],\n",
       "       ..., \n",
       "       [  9.81783515e-03,   9.90182165e-01],\n",
       "       [  9.66682348e-01,   3.33176520e-02],\n",
       "       [  9.89675993e-01,   1.03240074e-02]])"
      ]
     },
     "execution_count": 346,
     "metadata": {},
     "output_type": "execute_result"
    }
   ],
   "source": [
    "probs"
   ]
  },
  {
   "cell_type": "code",
   "execution_count": 137,
   "metadata": {
    "collapsed": false
   },
   "outputs": [
    {
     "data": {
      "text/html": [
       "<div>\n",
       "<table border=\"1\" class=\"dataframe\">\n",
       "  <thead>\n",
       "    <tr style=\"text-align: right;\">\n",
       "      <th></th>\n",
       "      <th>0</th>\n",
       "      <th>1</th>\n",
       "    </tr>\n",
       "  </thead>\n",
       "  <tbody>\n",
       "    <tr>\n",
       "      <th>1945</th>\n",
       "      <td>0.997496</td>\n",
       "      <td>red</td>\n",
       "    </tr>\n",
       "    <tr>\n",
       "      <th>1946</th>\n",
       "      <td>0.00164577</td>\n",
       "      <td>white</td>\n",
       "    </tr>\n",
       "    <tr>\n",
       "      <th>1947</th>\n",
       "      <td>0.00981784</td>\n",
       "      <td>white</td>\n",
       "    </tr>\n",
       "    <tr>\n",
       "      <th>1948</th>\n",
       "      <td>0.966682</td>\n",
       "      <td>red</td>\n",
       "    </tr>\n",
       "    <tr>\n",
       "      <th>1949</th>\n",
       "      <td>0.989676</td>\n",
       "      <td>red</td>\n",
       "    </tr>\n",
       "  </tbody>\n",
       "</table>\n",
       "</div>"
      ],
      "text/plain": [
       "               0      1\n",
       "1945    0.997496    red\n",
       "1946  0.00164577  white\n",
       "1947  0.00981784  white\n",
       "1948    0.966682    red\n",
       "1949    0.989676    red"
      ]
     },
     "execution_count": 137,
     "metadata": {},
     "output_type": "execute_result"
    }
   ],
   "source": [
    "df_data = pd.DataFrame(np.vstack([probs[:,0],np.array(expected)]).T)\n",
    "df_data['true_red'] = "
   ]
  },
  {
   "cell_type": "code",
   "execution_count": 378,
   "metadata": {
    "collapsed": false
   },
   "outputs": [],
   "source": [
    "def logistic_regression(X, y):\n",
    "\n",
    "    from sklearn.linear_model import LogisticRegression\n",
    "    from sklearn import cross_validation as cv\n",
    "    from sklearn.metrics import classification_report\n",
    "    from sklearn.preprocessing import StandardScaler\n",
    "    from sklearn.metrics import accuracy_score\n",
    "\n",
    "    # splits data into training and test sets. 70% train, 30% test.\n",
    "    X_train, X_test, y_train, y_test = cv.train_test_split(X, y, test_size=0.3, random_state=0)\n",
    "\n",
    "    stdsc      = StandardScaler()\n",
    "\n",
    "    # z-scores training set data, then applies z-score formula from training set to test set.\n",
    "    # this ensures the training data does not learn anything about the test data.\n",
    "    X_train    = stdsc.fit_transform(X_train)\n",
    "    X_test     = stdsc.transform(X_test)\n",
    "\n",
    "    model      = LogisticRegression()\n",
    "    model.fit(X_train, y_train)\n",
    "\n",
    "    # make predictions on the test set. expected = actual risk, predicted = predicted risk, probs = probability of being risky\n",
    "    expected   = y_test\n",
    "    predicted  = model.predict(X_test)\n",
    "    probs      = model.predict_proba(X_test)\n",
    "\n",
    "    print ('Accuracy Score: %.2f%%' % (accuracy_score(expected, predicted) * 100))\n",
    "    print (classification_report(expected, predicted))\n",
    "    \n",
    "    return X_train, y_train, X_test, y_test,  expected, predicted, probs,  model"
   ]
  },
  {
   "cell_type": "code",
   "execution_count": 418,
   "metadata": {
    "collapsed": false
   },
   "outputs": [],
   "source": [
    "predictors = ['fixed_acidity', 'volatile_acidity', 'citric_acid', 'residual_sugar', 'chlorides', 'free_sulfur_dioxide', \n",
    " 'total_sulfur_dioxide', 'density', 'pH', 'sulphates', 'alcohol', 'red', 'white']\n",
    "target = ['acceptable']"
   ]
  },
  {
   "cell_type": "code",
   "execution_count": 424,
   "metadata": {
    "collapsed": false
   },
   "outputs": [
    {
     "name": "stdout",
     "output_type": "stream",
     "text": [
      "Accuracy Score: 73.69%\n",
      "              precision    recall  f1-score   support\n",
      "\n",
      "  acceptable       0.76      0.85      0.80      1215\n",
      "unacceptable       0.69      0.56      0.62       735\n",
      "\n",
      " avg / total       0.73      0.74      0.73      1950\n",
      "\n"
     ]
    }
   ],
   "source": [
    "from sklearn import cross_validation as cv\n",
    "X = df[predictors]\n",
    "y = df[target]\n",
    "\n",
    "\n",
    "X_train, y_train, X_test, y_test, expected, predicted, probs,  model = logistic_regression(X, y)"
   ]
  },
  {
   "cell_type": "code",
   "execution_count": 428,
   "metadata": {
    "collapsed": true
   },
   "outputs": [],
   "source": [
    "def create_accuracy_report(probs, predicted, expected):\n",
    "    \n",
    "    # obtain unique list of classes\n",
    "    classes = list(np.unique(expected))\n",
    "    #add p() around class name to indicate probability of\n",
    "    prob_cols = ['p(' + s + ')' for s in classes]\n",
    "    \n",
    "    # combine outputs from classifier\n",
    "    probabilities = pd.DataFrame(probs, columns = prob_cols)\n",
    "    predictions = pd.DataFrame(predicted, columns = ['prediction'])\n",
    "    expect = pd.DataFrame(expected)\n",
    "    expect.columns = ['category']\n",
    "    expect = expect.reset_index(drop=True)\n",
    "    df_report = pd.concat([probabilities, predictions, expect], axis=1)\n",
    "    df_report = df_report.reset_index(drop=True)\n",
    "    \n",
    "    # create dummy 1 and 0 variables for category\n",
    "    df_report[classes] = pd.get_dummies(df_report['category'])\n",
    "    \n",
    "    bins = np.linspace(0,1,nbins+1)\n",
    "    df_report[prob_cols] = np.digitize(df_report[prob_cols],bins)\n",
    "    \n",
    "    return df_report\n",
    "\n",
    "\n",
    "def summarize_report(df_report):\n",
    "    \n",
    "    classes = np.unique(df_report['category'])\n",
    "    \n",
    "    df = pd.DataFrame()\n",
    "    for x in classes:\n",
    "        \n",
    "        avg   = df_report.groupby('p(' + str(x) + ')')[x].mean()\n",
    "        count = df_report.groupby('p(' + str(x) + ')')[x].count()\n",
    "        \n",
    "        df_temp = pd.concat([avg, count], axis=1)\n",
    "        cols = ['avg_' + str(x), 'count_' + str(x)]\n",
    "        df_temp.columns = cols\n",
    "        df = pd.concat([df, df_temp], axis=1)\n",
    "    \n",
    "    return df\n",
    "\n",
    "df_report = create_accuracy_report(probs, predicted, expected)\n",
    "df_summary = summarize_report(df_report)"
   ]
  },
  {
   "cell_type": "code",
   "execution_count": 434,
   "metadata": {
    "collapsed": false
   },
   "outputs": [],
   "source": []
  },
  {
   "cell_type": "code",
   "execution_count": 436,
   "metadata": {
    "collapsed": false
   },
   "outputs": [
    {
     "data": {
      "text/html": [
       "<div>\n",
       "<table border=\"1\" class=\"dataframe\">\n",
       "  <thead>\n",
       "    <tr style=\"text-align: right;\">\n",
       "      <th></th>\n",
       "      <th>p(acceptable)</th>\n",
       "      <th>p(unacceptable)</th>\n",
       "      <th>prediction</th>\n",
       "      <th>category</th>\n",
       "      <th>acceptable</th>\n",
       "      <th>unacceptable</th>\n",
       "    </tr>\n",
       "  </thead>\n",
       "  <tbody>\n",
       "    <tr>\n",
       "      <th>0</th>\n",
       "      <td>8</td>\n",
       "      <td>3</td>\n",
       "      <td>acceptable</td>\n",
       "      <td>acceptable</td>\n",
       "      <td>1</td>\n",
       "      <td>0</td>\n",
       "    </tr>\n",
       "    <tr>\n",
       "      <th>1</th>\n",
       "      <td>4</td>\n",
       "      <td>7</td>\n",
       "      <td>unacceptable</td>\n",
       "      <td>acceptable</td>\n",
       "      <td>1</td>\n",
       "      <td>0</td>\n",
       "    </tr>\n",
       "    <tr>\n",
       "      <th>2</th>\n",
       "      <td>9</td>\n",
       "      <td>2</td>\n",
       "      <td>acceptable</td>\n",
       "      <td>unacceptable</td>\n",
       "      <td>0</td>\n",
       "      <td>1</td>\n",
       "    </tr>\n",
       "    <tr>\n",
       "      <th>3</th>\n",
       "      <td>1</td>\n",
       "      <td>10</td>\n",
       "      <td>unacceptable</td>\n",
       "      <td>acceptable</td>\n",
       "      <td>1</td>\n",
       "      <td>0</td>\n",
       "    </tr>\n",
       "    <tr>\n",
       "      <th>4</th>\n",
       "      <td>4</td>\n",
       "      <td>7</td>\n",
       "      <td>unacceptable</td>\n",
       "      <td>unacceptable</td>\n",
       "      <td>0</td>\n",
       "      <td>1</td>\n",
       "    </tr>\n",
       "  </tbody>\n",
       "</table>\n",
       "</div>"
      ],
      "text/plain": [
       "   p(acceptable)  p(unacceptable)    prediction      category  acceptable  \\\n",
       "0              8                3    acceptable    acceptable           1   \n",
       "1              4                7  unacceptable    acceptable           1   \n",
       "2              9                2    acceptable  unacceptable           0   \n",
       "3              1               10  unacceptable    acceptable           1   \n",
       "4              4                7  unacceptable  unacceptable           0   \n",
       "\n",
       "   unacceptable  \n",
       "0             0  \n",
       "1             0  \n",
       "2             1  \n",
       "3             0  \n",
       "4             1  "
      ]
     },
     "execution_count": 436,
     "metadata": {},
     "output_type": "execute_result"
    }
   ],
   "source": [
    "df_report.head()"
   ]
  },
  {
   "cell_type": "code",
   "execution_count": 447,
   "metadata": {
    "collapsed": false
   },
   "outputs": [],
   "source": []
  },
  {
   "cell_type": "code",
   "execution_count": 449,
   "metadata": {
    "collapsed": false
   },
   "outputs": [
    {
     "data": {
      "text/html": [
       "<div>\n",
       "<table border=\"1\" class=\"dataframe\">\n",
       "  <thead>\n",
       "    <tr style=\"text-align: right;\">\n",
       "      <th></th>\n",
       "      <th>avg_acceptable</th>\n",
       "      <th>count_acceptable</th>\n",
       "      <th>avg_unacceptable</th>\n",
       "      <th>count_unacceptable</th>\n",
       "    </tr>\n",
       "  </thead>\n",
       "  <tbody>\n",
       "    <tr>\n",
       "      <th>1</th>\n",
       "      <td>0.200000</td>\n",
       "      <td>20</td>\n",
       "      <td>0.083333</td>\n",
       "      <td>312</td>\n",
       "    </tr>\n",
       "    <tr>\n",
       "      <th>2</th>\n",
       "      <td>0.171875</td>\n",
       "      <td>64</td>\n",
       "      <td>0.140000</td>\n",
       "      <td>350</td>\n",
       "    </tr>\n",
       "    <tr>\n",
       "      <th>3</th>\n",
       "      <td>0.254777</td>\n",
       "      <td>157</td>\n",
       "      <td>0.255556</td>\n",
       "      <td>270</td>\n",
       "    </tr>\n",
       "    <tr>\n",
       "      <th>4</th>\n",
       "      <td>0.300546</td>\n",
       "      <td>183</td>\n",
       "      <td>0.355000</td>\n",
       "      <td>200</td>\n",
       "    </tr>\n",
       "    <tr>\n",
       "      <th>5</th>\n",
       "      <td>0.448276</td>\n",
       "      <td>174</td>\n",
       "      <td>0.500000</td>\n",
       "      <td>220</td>\n",
       "    </tr>\n",
       "    <tr>\n",
       "      <th>6</th>\n",
       "      <td>0.500000</td>\n",
       "      <td>220</td>\n",
       "      <td>0.551724</td>\n",
       "      <td>174</td>\n",
       "    </tr>\n",
       "    <tr>\n",
       "      <th>7</th>\n",
       "      <td>0.645000</td>\n",
       "      <td>200</td>\n",
       "      <td>0.699454</td>\n",
       "      <td>183</td>\n",
       "    </tr>\n",
       "    <tr>\n",
       "      <th>8</th>\n",
       "      <td>0.744444</td>\n",
       "      <td>270</td>\n",
       "      <td>0.745223</td>\n",
       "      <td>157</td>\n",
       "    </tr>\n",
       "    <tr>\n",
       "      <th>9</th>\n",
       "      <td>0.860000</td>\n",
       "      <td>350</td>\n",
       "      <td>0.828125</td>\n",
       "      <td>64</td>\n",
       "    </tr>\n",
       "    <tr>\n",
       "      <th>10</th>\n",
       "      <td>0.916667</td>\n",
       "      <td>312</td>\n",
       "      <td>0.800000</td>\n",
       "      <td>20</td>\n",
       "    </tr>\n",
       "  </tbody>\n",
       "</table>\n",
       "</div>"
      ],
      "text/plain": [
       "    avg_acceptable  count_acceptable  avg_unacceptable  count_unacceptable\n",
       "1         0.200000                20          0.083333                 312\n",
       "2         0.171875                64          0.140000                 350\n",
       "3         0.254777               157          0.255556                 270\n",
       "4         0.300546               183          0.355000                 200\n",
       "5         0.448276               174          0.500000                 220\n",
       "6         0.500000               220          0.551724                 174\n",
       "7         0.645000               200          0.699454                 183\n",
       "8         0.744444               270          0.745223                 157\n",
       "9         0.860000               350          0.828125                  64\n",
       "10        0.916667               312          0.800000                  20"
      ]
     },
     "execution_count": 449,
     "metadata": {},
     "output_type": "execute_result"
    }
   ],
   "source": [
    "df"
   ]
  },
  {
   "cell_type": "code",
   "execution_count": 395,
   "metadata": {
    "collapsed": false
   },
   "outputs": [
    {
     "data": {
      "text/plain": [
       "array([ 0. ,  0.1,  0.2,  0.3,  0.4,  0.5,  0.6,  0.7,  0.8,  0.9,  1. ])"
      ]
     },
     "execution_count": 395,
     "metadata": {},
     "output_type": "execute_result"
    }
   ],
   "source": [
    "bins"
   ]
  },
  {
   "cell_type": "code",
   "execution_count": 368,
   "metadata": {
    "collapsed": false
   },
   "outputs": [],
   "source": [
    "probs = df_report[['prob_red', 'prob_white']]\n",
    "probs = np.array(probs)\n",
    "\n",
    "col_labels = ['red', 'white']\n",
    "\n",
    "true_classifications  = df_report[['prediction', 'category']]\n",
    "true_classifications = np.array(true_classifications)\n",
    "\n",
    "nbins = 10\n",
    "\n",
    "data = genFigureData(probs=probs, col_labels=col_labels, true_classifications=true_classifications, nbins=nbins)"
   ]
  },
  {
   "cell_type": "code",
   "execution_count": 361,
   "metadata": {
    "collapsed": false
   },
   "outputs": [
    {
     "name": "stdout",
     "output_type": "stream",
     "text": [
      "0\n",
      "[  9.99999761e-01   9.99999655e-01   9.99999633e-01 ...,   9.88036431e-07\n",
      "   5.44993777e-07   1.82976946e-08]\n",
      "[10 10 10 ...,  1  1  1]\n",
      "1\n",
      "[  2.38625988e-07   3.44667404e-07   3.66759763e-07 ...,   9.99999012e-01\n",
      "   9.99999455e-01   9.99999982e-01]\n",
      "[ 1  1  1 ..., 10 10 10]\n"
     ]
    }
   ],
   "source": [
    "for figurenumber in range(0,nclasses):\n",
    "    print (figurenumber)    \n",
    "    probs_CurrCol = probs[:,figurenumber]\n",
    "    print (probs_CurrCol)\n",
    "    probs_digitize = np.digitize(probs_CurrCol,bins)\n",
    "    print (probs_digitize)"
   ]
  },
  {
   "cell_type": "code",
   "execution_count": 367,
   "metadata": {
    "collapsed": false
   },
   "outputs": [],
   "source": [
    "import numpy as np\n",
    "\n",
    "def genFigureData(probs,col_labels,true_classifications,nbins):\n",
    "    # input 'probs' to this function is a 2D numpy array with number of rows = number of observations and\n",
    "    # number of columns = number of classes\n",
    "    # 'col_labels' is a list of strings representing the names of the classes in the same order as represented in 'probs'\n",
    "    # 'true_classifications' is a list of strings with length = number of observations\n",
    "\n",
    "    probs_shape = np.shape(probs)\n",
    "    nclasses = probs_shape[1]\n",
    "    bins = np.linspace(0,1,nbins+1)\n",
    "\n",
    "    # output 'figure_data' contains the information to display 1 or more figures (equal to the number of classes).\n",
    "    # Each figure contains data for each hist bin. Each hist bin contains data for each class.\n",
    "    figure_data = np.zeros((nclasses,nbins,nclasses))\n",
    "\n",
    "    for figurenumber in range(0,nclasses):\n",
    "        probs_CurrCol = probs[:, figurenumber]\n",
    "        probs_digitize = np.digitize(probs_CurrCol,bins)\n",
    "        for binnumber in range(0,nbins):\n",
    "            obsInBin = probs_digitize==binnumber\n",
    "            \n",
    "            trueClass_InBin = true_classifications[np.where(obsInBin)]\n",
    "            n_InBin = np.sum(obsInBin)\n",
    "            for classnumber in range(0,nclasses):\n",
    "                # compute the absolute number of observations that were actually <class>, for this bin\n",
    "                #figure_data[figurenumber,binnumber,classnumber] = np.sum(trueClass_InBin==col_labels[classnumber])\n",
    "                # or, compute the percent that were <class>,\n",
    "                figure_data[figurenumber, binnumber, classnumber] = np.sum(trueClass_InBin == col_labels[classnumber]) / n_InBin\n",
    "\n",
    "    return figure_data"
   ]
  },
  {
   "cell_type": "code",
   "execution_count": 292,
   "metadata": {
    "collapsed": false,
    "scrolled": false
   },
   "outputs": [
    {
     "data": {
      "image/png": "[encoded data removed]",
      "text/plain": [
       "<matplotlib.figure.Figure at 0x2193992f128>"
      ]
     },
     "metadata": {},
     "output_type": "display_data"
    }
   ],
   "source": [
    "import matplotlib.pyplot as plt\n",
    "import numpy as np\n",
    "\n",
    "\n",
    "def create_bin_labels(nbins):\n",
    "    \n",
    "    labels = []\n",
    "    for x in range(nbins):\n",
    "        bottom = (x*(1 / nbins))\n",
    "        top = ((x+1)*(1/ nbins))\n",
    "        label = '%.2f - %.2f' % (bottom, top)\n",
    "        labels.append(label)\n",
    "        \n",
    "    return labels\n",
    "    \n",
    "\n",
    "yticklabels = create_bin_labels(10)\n",
    "bars = [.05, .15, .25,.35,.45,.55,.65,.75,.85,.95]\n",
    "observations = [5,15,30,40,45,45,40,30,15,5]\n",
    "\n",
    "\n",
    "bars = np.array(bars)\n",
    "yticklabels = np.array(yticklabels)\n",
    "observations = np.array(observations)\n",
    "\n",
    "y_pos = np.arange(len(yticklabels))\n",
    "classes = [0,1,2,3,4,5]\n",
    "\n",
    "fig, ax = plt.subplots(nrows=len(classes),ncols=2)\n",
    "\n",
    "for x in classes:\n",
    "    ax[x,0].barh(y_pos,  bars)\n",
    "    ax[x,0].set_yticks(y_pos)\n",
    "    ax[x,0].set_yticklabels(yticklabels)\n",
    "    ax[x,0].set_ylabel('predicted probability')\n",
    "    ax[x,0].set_xlabel('actual probability')\n",
    "\n",
    "    ax[x,0].spines[\"top\"].set_visible(False) \n",
    "    ax[x,0].spines[\"right\"].set_visible(False)\n",
    "    ax[x,0].set_title('class %s' % str(x))\n",
    "\n",
    "    ax[x,1].barh(y_pos, observations, height=1, alpha=.5)\n",
    "    ax[x,1].spines['top'].set_visible(False)\n",
    "    ax[x,1].spines['bottom'].set_visible(False)\n",
    "    ax[x,1].spines['right'].set_visible(False)\n",
    "    ax[x,1].spines['left'].set_visible(False)    \n",
    "    ax[x,1].axes.yaxis.set_ticklabels([])\n",
    "    ax[x,1].axes.xaxis.set_ticklabels([])\n",
    "    ax[x,1].xaxis.set_ticks_position('none') \n",
    "    ax[x,1].yaxis.set_ticks_position('none')    \n",
    "    \n",
    "fig.set_figheight(5 * len(classes))\n",
    "fig.set_figwidth(14)"
   ]
  },
  {
   "cell_type": "code",
   "execution_count": null,
   "metadata": {
    "collapsed": true
   },
   "outputs": [],
   "source": []
  }
 ],
 "metadata": {
  "kernelspec": {
   "display_name": "Python 3",
   "language": "python",
   "name": "python3"
  },
  "language_info": {
   "codemirror_mode": {
    "name": "ipython",
    "version": 3
   },
   "file_extension": ".py",
   "mimetype": "text/x-python",
   "name": "python",
   "nbconvert_exporter": "python",
   "pygments_lexer": "ipython3",
   "version": "3.6.0"
  }
 },
 "nbformat": 4,
 "nbformat_minor": 2
}
