{
 "cells": [
  {
   "cell_type": "markdown",
   "metadata": {},
   "source": [
    "#### Import some basic libraries"
   ]
  },
  {
   "cell_type": "code",
   "execution_count": 1,
   "metadata": {
    "collapsed": false
   },
   "outputs": [],
   "source": [
    "import pandas as pd\n",
    "import numpy as np\n",
    "import warnings\n",
    "%matplotlib inline\n",
    "import matplotlib.pyplot as plt\n",
    "\n",
    "warnings.filterwarnings('ignore')"
   ]
  },
  {
   "cell_type": "markdown",
   "metadata": {},
   "source": [
    "## Wine Quality Data"
   ]
  },
  {
   "cell_type": "markdown",
   "metadata": {},
   "source": [
    "The UCI wine quality dataset uses  Portuguese \"Vinho Verde\" wine data to provide both classification and regression machine learning tasks. Users can attempt to classify wines as red/white, or predict the overall quality of wine.\n",
    "\n",
    "The variables included in this dataset include:   \n",
    "Input variables (based on physicochemical tests):    \n",
    "1 - fixed acidity    \n",
    "2 - volatile acidity    \n",
    "3 - citric acid    \n",
    "4 - residual sugar    \n",
    "5 - chlorides    \n",
    "6 - free sulfur dioxide    \n",
    "7 - total sulfur dioxide    \n",
    "8 - density    \n",
    "9 - pH    \n",
    "10 - sulphates    \n",
    "11 - alcohol    \n",
    "\n",
    "Output variable (based on sensory data):    \n",
    "12 - quality (score between 0 and 10)   \n",
    "\n",
    "\n",
    "Citation:\n",
    "P. Cortez, A. Cerdeira, F. Almeida, T. Matos and J. Reis. \n",
    "Modeling wine preferences by data mining from physicochemical properties. In Decision Support Systems, Elsevier, 47(4):547-553, 2009.\n",
    "\n",
    "https://archive.ics.uci.edu/ml/datasets/Wine+Quality"
   ]
  },
  {
   "cell_type": "code",
   "execution_count": 11,
   "metadata": {
    "collapsed": false
   },
   "outputs": [
    {
     "name": "stdout",
     "output_type": "stream",
     "text": [
      "   fixed_acidity  volatile_acidity  citric_acid  residual_sugar  chlorides  \\\n",
      "0            7.0              0.27         0.36            20.7      0.045   \n",
      "1            6.3              0.30         0.34             1.6      0.049   \n",
      "2            8.1              0.28         0.40             6.9      0.050   \n",
      "3            7.2              0.23         0.32             8.5      0.058   \n",
      "4            7.2              0.23         0.32             8.5      0.058   \n",
      "\n",
      "   free_sulfur_dioxide  total_sulfur_dioxide  density    pH  sulphates  \\\n",
      "0                 45.0                 170.0   1.0010  3.00       0.45   \n",
      "1                 14.0                 132.0   0.9940  3.30       0.49   \n",
      "2                 30.0                  97.0   0.9951  3.26       0.44   \n",
      "3                 47.0                 186.0   0.9956  3.19       0.40   \n",
      "4                 47.0                 186.0   0.9956  3.19       0.40   \n",
      "\n",
      "   alcohol  quality category  \n",
      "0      8.8        6    white  \n",
      "1      9.5        6    white  \n",
      "2     10.1        6    white  \n",
      "3      9.9        6    white  \n",
      "4      9.9        6    white  \n",
      "\n",
      "\n",
      "category\n",
      "red      1599\n",
      "white    4898\n",
      "Name: pH, dtype: int64\n"
     ]
    },
    {
     "data": {
      "text/plain": [
       "acceptable\n",
       "ok       4113\n",
       "swill    2384\n",
       "Name: category, dtype: int64"
      ]
     },
     "execution_count": 11,
     "metadata": {},
     "output_type": "execute_result"
    }
   ],
   "source": [
    "def obtain_data():\n",
    "\n",
    "    df_red = pd.read_csv(r'https://archive.ics.uci.edu/ml/machine-learning-databases/wine-quality/winequality-red.csv', sep = ';')\n",
    "    df_white = pd.read_csv(r'https://archive.ics.uci.edu/ml/machine-learning-databases/wine-quality/winequality-white.csv', sep=';')\n",
    "    \n",
    "    df_white['category'] = 'white'\n",
    "    df_red['category'] = 'red'\n",
    "    \n",
    "    df = pd.concat([df_white, df_red], axis=0)\n",
    "    \n",
    "    # remove spaces and replace with underscores\n",
    "    df.columns = df.columns.str.replace(\" \", \"_\")\n",
    "    \n",
    "    del df_white\n",
    "    del df_red\n",
    "    \n",
    "    return df\n",
    "\n",
    "df = obtain_data()\n",
    "print (df.head())\n",
    "print ('\\n')\n",
    "print (df.groupby('category')['pH'].count())\n",
    "\n",
    "df['acceptable'] = ''\n",
    "df['acceptable'][df.quality > 5] = 'ok'\n",
    "df['acceptable'][df.quality <= 5] = 'swill'\n",
    "\n",
    "df[['red', 'white']] = pd.get_dummies(df['category'])\n",
    "\n",
    "df.groupby('acceptable')['category'].count()"
   ]
  },
  {
   "cell_type": "code",
   "execution_count": 12,
   "metadata": {
    "collapsed": false
   },
   "outputs": [],
   "source": [
    "def logistic_regression(X, y):\n",
    "\n",
    "    from sklearn.linear_model import LogisticRegression\n",
    "    from sklearn import cross_validation as cv\n",
    "    from sklearn.metrics import classification_report\n",
    "    from sklearn.preprocessing import StandardScaler\n",
    "    from sklearn.metrics import accuracy_score\n",
    "\n",
    "    # splits data into training and test sets. 70% train, 30% test.\n",
    "    X_train, X_test, y_train, y_test = cv.train_test_split(X, y, test_size=0.3, random_state=0)\n",
    "\n",
    "    stdsc      = StandardScaler()\n",
    "\n",
    "    # z-scores training set data, then applies z-score formula from training set to test set.\n",
    "    # this ensures the training data does not learn anything about the test data.\n",
    "    X_train    = stdsc.fit_transform(X_train)\n",
    "    X_test     = stdsc.transform(X_test)\n",
    "\n",
    "    model      = LogisticRegression()\n",
    "    model.fit(X_train, y_train)\n",
    "\n",
    "    # make predictions on the test set. expected = actual risk, predicted = predicted risk, probs = probability of being risky\n",
    "    expected   = y_test\n",
    "    predicted  = model.predict(X_test)\n",
    "    probs      = model.predict_proba(X_test)\n",
    "\n",
    "    print ('Accuracy Score: %.2f%%' % (accuracy_score(expected, predicted) * 100))\n",
    "    print (classification_report(expected, predicted))\n",
    "    \n",
    "    return X_train, y_train, X_test, y_test,  expected, predicted, probs,  model"
   ]
  },
  {
   "cell_type": "code",
   "execution_count": 13,
   "metadata": {
    "collapsed": false
   },
   "outputs": [],
   "source": [
    "predictors = ['fixed_acidity', 'volatile_acidity', 'citric_acid', 'residual_sugar', 'chlorides', 'free_sulfur_dioxide', \n",
    " 'total_sulfur_dioxide', 'density', 'pH', 'sulphates', 'alcohol', 'red', 'white']\n",
    "target = ['acceptable']"
   ]
  },
  {
   "cell_type": "code",
   "execution_count": 15,
   "metadata": {
    "collapsed": false
   },
   "outputs": [
    {
     "name": "stdout",
     "output_type": "stream",
     "text": [
      "Accuracy Score: 73.69%\n",
      "             precision    recall  f1-score   support\n",
      "\n",
      "         ok       0.76      0.85      0.80      1215\n",
      "      swill       0.69      0.56      0.62       735\n",
      "\n",
      "avg / total       0.73      0.74      0.73      1950\n",
      "\n"
     ]
    }
   ],
   "source": [
    "from sklearn import cross_validation as cv\n",
    "X = df[predictors]\n",
    "y = df[target]\n",
    "\n",
    "\n",
    "X_train, y_train, X_test, y_test, expected, predicted, probs,  model = logistic_regression(X, y)"
   ]
  },
  {
   "cell_type": "code",
   "execution_count": 16,
   "metadata": {
    "collapsed": false
   },
   "outputs": [],
   "source": [
    "def create_accuracy_report(probs, predicted, expected, nbins):\n",
    "    \n",
    "    # obtain unique list of classes\n",
    "    classes = list(np.unique(expected))\n",
    "    #add p() around class name to indicate probability of\n",
    "    prob_cols = ['p(' + s + ')' for s in classes]\n",
    "    \n",
    "    # combine outputs from classifier\n",
    "    probabilities = pd.DataFrame(probs, columns = prob_cols)\n",
    "    predictions = pd.DataFrame(predicted, columns = ['prediction'])\n",
    "    expect = pd.DataFrame(expected)\n",
    "    expect.columns = ['category']\n",
    "    expect = expect.reset_index(drop=True)\n",
    "    df_report = pd.concat([probabilities, predictions, expect], axis=1)\n",
    "    df_report = df_report.reset_index(drop=True)\n",
    "    \n",
    "    # create dummy 1 and 0 variables for category\n",
    "    df_report[classes] = pd.get_dummies(df_report['category'])\n",
    "    \n",
    "    bins = np.linspace(0,1,nbins+1)\n",
    "    df_report[prob_cols] = np.digitize(df_report[prob_cols],bins)\n",
    "    \n",
    "    return df_report\n",
    "\n",
    "\n",
    "def summarize_report(df_report):\n",
    "    \n",
    "    classes = np.unique(df_report['category'])\n",
    "    \n",
    "    df = pd.DataFrame()\n",
    "    for x in classes:\n",
    "        \n",
    "        avg   = df_report.groupby('p(' + str(x) + ')')[x].mean()\n",
    "        count = df_report.groupby('p(' + str(x) + ')')[x].count()\n",
    "        \n",
    "        df_temp = pd.concat([avg, count], axis=1)\n",
    "        cols = ['avg_' + str(x), 'count_' + str(x)]\n",
    "        df_temp.columns = cols\n",
    "        df = pd.concat([df, df_temp], axis=1)\n",
    "    \n",
    "    return df\n",
    "\n"
   ]
  },
  {
   "cell_type": "code",
   "execution_count": 17,
   "metadata": {
    "collapsed": false,
    "scrolled": true
   },
   "outputs": [
    {
     "data": {
      "text/html": [
       "<div>\n",
       "<table border=\"1\" class=\"dataframe\">\n",
       "  <thead>\n",
       "    <tr style=\"text-align: right;\">\n",
       "      <th></th>\n",
       "      <th>avg_ok</th>\n",
       "      <th>count_ok</th>\n",
       "      <th>avg_swill</th>\n",
       "      <th>count_swill</th>\n",
       "    </tr>\n",
       "  </thead>\n",
       "  <tbody>\n",
       "    <tr>\n",
       "      <th>1</th>\n",
       "      <td>0.200000</td>\n",
       "      <td>20</td>\n",
       "      <td>0.083333</td>\n",
       "      <td>312</td>\n",
       "    </tr>\n",
       "    <tr>\n",
       "      <th>2</th>\n",
       "      <td>0.171875</td>\n",
       "      <td>64</td>\n",
       "      <td>0.140000</td>\n",
       "      <td>350</td>\n",
       "    </tr>\n",
       "    <tr>\n",
       "      <th>3</th>\n",
       "      <td>0.254777</td>\n",
       "      <td>157</td>\n",
       "      <td>0.255556</td>\n",
       "      <td>270</td>\n",
       "    </tr>\n",
       "    <tr>\n",
       "      <th>4</th>\n",
       "      <td>0.300546</td>\n",
       "      <td>183</td>\n",
       "      <td>0.355000</td>\n",
       "      <td>200</td>\n",
       "    </tr>\n",
       "    <tr>\n",
       "      <th>5</th>\n",
       "      <td>0.448276</td>\n",
       "      <td>174</td>\n",
       "      <td>0.500000</td>\n",
       "      <td>220</td>\n",
       "    </tr>\n",
       "    <tr>\n",
       "      <th>6</th>\n",
       "      <td>0.500000</td>\n",
       "      <td>220</td>\n",
       "      <td>0.551724</td>\n",
       "      <td>174</td>\n",
       "    </tr>\n",
       "    <tr>\n",
       "      <th>7</th>\n",
       "      <td>0.645000</td>\n",
       "      <td>200</td>\n",
       "      <td>0.699454</td>\n",
       "      <td>183</td>\n",
       "    </tr>\n",
       "    <tr>\n",
       "      <th>8</th>\n",
       "      <td>0.744444</td>\n",
       "      <td>270</td>\n",
       "      <td>0.745223</td>\n",
       "      <td>157</td>\n",
       "    </tr>\n",
       "    <tr>\n",
       "      <th>9</th>\n",
       "      <td>0.860000</td>\n",
       "      <td>350</td>\n",
       "      <td>0.828125</td>\n",
       "      <td>64</td>\n",
       "    </tr>\n",
       "    <tr>\n",
       "      <th>10</th>\n",
       "      <td>0.916667</td>\n",
       "      <td>312</td>\n",
       "      <td>0.800000</td>\n",
       "      <td>20</td>\n",
       "    </tr>\n",
       "  </tbody>\n",
       "</table>\n",
       "</div>"
      ],
      "text/plain": [
       "      avg_ok  count_ok  avg_swill  count_swill\n",
       "1   0.200000        20   0.083333          312\n",
       "2   0.171875        64   0.140000          350\n",
       "3   0.254777       157   0.255556          270\n",
       "4   0.300546       183   0.355000          200\n",
       "5   0.448276       174   0.500000          220\n",
       "6   0.500000       220   0.551724          174\n",
       "7   0.645000       200   0.699454          183\n",
       "8   0.744444       270   0.745223          157\n",
       "9   0.860000       350   0.828125           64\n",
       "10  0.916667       312   0.800000           20"
      ]
     },
     "execution_count": 17,
     "metadata": {},
     "output_type": "execute_result"
    }
   ],
   "source": [
    "df_summary"
   ]
  },
  {
   "cell_type": "code",
   "execution_count": 61,
   "metadata": {
    "collapsed": false,
    "scrolled": false
   },
   "outputs": [],
   "source": [
    "def create_bin_labels(nbins):\n",
    "    \n",
    "    labels = []\n",
    "    for x in range(nbins):\n",
    "        bottom = (x*(1 / nbins))\n",
    "        top = ((x+1)*(1/ nbins))\n",
    "        label = '%.2f - %.2f' % (bottom, top)\n",
    "        labels.append(label)\n",
    "        \n",
    "    return labels\n",
    "    \n",
    "\n",
    "def create_prediction_accuracy_fig(probs, predicted, expected, nbins=10):\n",
    "\n",
    "    \n",
    "    df_report = create_accuracy_report(probs, predicted, expected, nbins)\n",
    "    df_summary = summarize_report(df_report)\n",
    "    \n",
    "    yticklabels = np.array(create_bin_labels(nbins))\n",
    "    yticklabels = np.array(yticklabels)\n",
    "    y_pos = np.arange(len(yticklabels))\n",
    "\n",
    "    fig, ax = plt.subplots(nrows=len(classes),ncols=2)\n",
    "\n",
    "    for x, class_name in enumerate(classes):\n",
    "        \n",
    "        # replace with a numpy command\n",
    "        bars = np.array(df_summary['avg_' + str(class_name)])\n",
    "        observations = np.array(df_summary['count_' + str(class_name)])\n",
    "\n",
    "        ax[x,0].barh(y_pos,  bars)\n",
    "        ax[x,0].set_yticks(y_pos)\n",
    "        ax[x,0].set_yticklabels(yticklabels)\n",
    "        ax[x,0].set_xticks(np.arange(0,1.1,.1))\n",
    "        ax[x,0].set_ylabel('predicted probability')\n",
    "        ax[x,0].set_xlabel('actual probability')\n",
    "\n",
    "        ax[x,0].spines[\"top\"].set_visible(False) \n",
    "        ax[x,0].spines[\"right\"].set_visible(False)\n",
    "        ax[x,0].set_title('accuracy of class %s' % str(class_name))\n",
    "\n",
    "        ax[x,1].barh(y_pos, observations, height=1, alpha=.5)\n",
    "        ax[x,1].spines['top'].set_visible(False)\n",
    "        ax[x,1].spines['bottom'].set_visible(False)\n",
    "        ax[x,1].spines['right'].set_visible(False)\n",
    "        ax[x,1].spines['left'].set_visible(False)    \n",
    "        ax[x,1].axes.yaxis.set_ticklabels([])\n",
    "        ax[x,1].axes.xaxis.set_ticklabels([])\n",
    "        ax[x,1].xaxis.set_ticks_position('none') \n",
    "        ax[x,1].yaxis.set_ticks_position('none')\n",
    "        ax[x,1].set_title('distributions of predictions for class %s' % str(class_name))\n",
    "\n",
    "    fig.set_figheight(5 * len(classes))\n",
    "    fig.set_figwidth(14)\n",
    "\n",
    "    return fig"
   ]
  },
  {
   "cell_type": "code",
   "execution_count": 66,
   "metadata": {
    "collapsed": false
   },
   "outputs": [
    {
     "data": {
      "image/png": "[encoded data removed]",
      "text/plain": [
       "<matplotlib.figure.Figure at 0x15249e82080>"
      ]
     },
     "metadata": {},
     "output_type": "display_data"
    }
   ],
   "source": [
    "fig = create_prediction_accuracy_fig(probs, predicted, expected, nbins=10)"
   ]
  },
  {
   "cell_type": "code",
   "execution_count": null,
   "metadata": {
    "collapsed": true
   },
   "outputs": [],
   "source": []
  }
 ],
 "metadata": {
  "kernelspec": {
   "display_name": "Python 3",
   "language": "python",
   "name": "python3"
  },
  "language_info": {
   "codemirror_mode": {
    "name": "ipython",
    "version": 3
   },
   "file_extension": ".py",
   "mimetype": "text/x-python",
   "name": "python",
   "nbconvert_exporter": "python",
   "pygments_lexer": "ipython3",
   "version": "3.6.0"
  }
 },
 "nbformat": 4,
 "nbformat_minor": 2
}
